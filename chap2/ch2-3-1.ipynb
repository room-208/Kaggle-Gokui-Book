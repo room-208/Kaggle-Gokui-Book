{
 "cells": [
  {
   "cell_type": "code",
   "execution_count": null,
   "metadata": {},
   "outputs": [],
   "source": [
    "import matplotlib.pyplot as plt\n",
    "import numpy as np\n",
    "\n",
    "from dataloader import create_dataloder_ver2\n",
    "from device import create_device\n",
    "from loss import create_lossfn\n",
    "from model import create_model\n",
    "from optimizer import create_optimizer\n",
    "from seed import seed_torch\n",
    "from train import train_1epoch\n",
    "from validate import validate_1epoch"
   ]
  },
  {
   "cell_type": "code",
   "execution_count": null,
   "metadata": {},
   "outputs": [],
   "source": [
    "seed_torch()\n",
    "device = create_device()\n",
    "lossfn = create_lossfn()\n",
    "train_loader, val_loader, test_loader = create_dataloder_ver2()\n",
    "model = create_model()\n",
    "optimizer = create_optimizer(model)"
   ]
  },
  {
   "cell_type": "code",
   "execution_count": null,
   "metadata": {},
   "outputs": [],
   "source": [
    "train_losses = []\n",
    "val_losses = []\n",
    "for e in range(100):\n",
    "    train_acc, train_loss = train_1epoch(model, train_loader, lossfn, optimizer, device)\n",
    "    val_acc, val_loss = validate_1epoch(model, val_loader, lossfn, device)\n",
    "    train_losses.append(train_loss)\n",
    "    val_losses.append(val_losses)"
   ]
  },
  {
   "cell_type": "code",
   "execution_count": null,
   "metadata": {},
   "outputs": [],
   "source": [
    "plt.plot(train_losses)\n",
    "plt.plot(train_losses)\n",
    "plt.show()"
   ]
  },
  {
   "cell_type": "code",
   "execution_count": null,
   "metadata": {},
   "outputs": [],
   "source": [
    "test_acc, _ = validate_1epoch(model, test_loader, lossfn, device)\n",
    "\n",
    "print(train_acc.item())\n",
    "print(val_acc.item())\n",
    "print(test_acc.item())"
   ]
  }
 ],
 "metadata": {
  "kernelspec": {
   "display_name": "base",
   "language": "python",
   "name": "python3"
  },
  "language_info": {
   "codemirror_mode": {
    "name": "ipython",
    "version": 3
   },
   "file_extension": ".py",
   "mimetype": "text/x-python",
   "name": "python",
   "nbconvert_exporter": "python",
   "pygments_lexer": "ipython3",
   "version": "3.10.10"
  },
  "orig_nbformat": 4
 },
 "nbformat": 4,
 "nbformat_minor": 2
}

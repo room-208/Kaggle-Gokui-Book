{
 "cells": [
  {
   "cell_type": "code",
   "execution_count": null,
   "metadata": {},
   "outputs": [],
   "source": [
    "import cv2\n",
    "from pathlib import Path\n",
    "import matplotlib.pyplot as plt"
   ]
  },
  {
   "cell_type": "code",
   "execution_count": null,
   "metadata": {},
   "outputs": [],
   "source": [
    "DATA_DIR = Path(\"../data\")\n",
    "TRAIN_DIR = Path(DATA_DIR, \"train\")\n",
    "TEST_DIR = Path(DATA_DIR, \"test\")"
   ]
  },
  {
   "cell_type": "code",
   "execution_count": null,
   "metadata": {},
   "outputs": [],
   "source": [
    "h_list = []\n",
    "w_list = []\n",
    "\n",
    "for path in TRAIN_DIR.glob(\"*.jpg\"):\n",
    "    img = cv2.imread(str(path))\n",
    "    h, w, c = img.shape\n",
    "    h_list.append(h)\n",
    "    w_list.append(w)\n",
    "    \n",
    "for path in TEST_DIR.glob(\"*.jpg\"):\n",
    "    img = cv2.imread(str(path))\n",
    "    h, w, c = img.shape\n",
    "    h_list.append(h)\n",
    "    w_list.append(w)"
   ]
  },
  {
   "cell_type": "code",
   "execution_count": null,
   "metadata": {},
   "outputs": [],
   "source": [
    "plt.scatter(h_list, w_list)"
   ]
  },
  {
   "cell_type": "code",
   "execution_count": null,
   "metadata": {},
   "outputs": [],
   "source": []
  }
 ],
 "metadata": {
  "kernelspec": {
   "display_name": "base",
   "language": "python",
   "name": "python3"
  },
  "language_info": {
   "codemirror_mode": {
    "name": "ipython",
    "version": 3
   },
   "file_extension": ".py",
   "mimetype": "text/x-python",
   "name": "python",
   "nbconvert_exporter": "python",
   "pygments_lexer": "ipython3",
   "version": "3.10.10"
  },
  "orig_nbformat": 4
 },
 "nbformat": 4,
 "nbformat_minor": 2
}

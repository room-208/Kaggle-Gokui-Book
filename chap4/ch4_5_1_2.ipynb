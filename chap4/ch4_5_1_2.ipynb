{
 "cells": [
  {
   "cell_type": "code",
   "execution_count": null,
   "metadata": {},
   "outputs": [],
   "source": [
    "import numpy as np\n",
    "import pandas as pd\n",
    "import matplotlib.pyplot as plt\n",
    "import tensorflow as tf\n",
    "from delf import delf_config_pb2, extractor, utils\n",
    "from google.protobuf import text_format\n",
    "from scipy import spatial\n",
    "import pydegensac\n",
    "from skimage.feature import plot_matches"
   ]
  },
  {
   "cell_type": "code",
   "execution_count": null,
   "metadata": {},
   "outputs": [],
   "source": [
    "DELG_CONFIG = \"/opt/models/research/delf/delf/python/delg/r101delg_gldv2clean_config.pbtxt\""
   ]
  },
  {
   "cell_type": "code",
   "execution_count": null,
   "metadata": {},
   "outputs": [],
   "source": [
    "config = delf_config_pb2.DelfConfig()\n",
    "\n",
    "with tf.io.gfile.GFile(DELG_CONFIG, \"r\") as f:\n",
    "    text_format.Parse(f.read(), config)\n",
    "\n",
    "extractor_fn = extractor.MakeExtractor(config)"
   ]
  },
  {
   "cell_type": "code",
   "execution_count": null,
   "metadata": {},
   "outputs": [],
   "source": [
    "filepath_list = [\n",
    "    \"../data/gldv2_micro/images/457cb65ba4a1ee3d.jpg\",\n",
    "    \"../data/gldv2_micro/images/1382256e230d5696.jpg\",\n",
    "]\n",
    "    \n",
    "results = {}\n",
    "for filepath in filepath_list:\n",
    "    resize_factor = 1.0\n",
    "    img = np.array(utils.RgbLoader(filepath))\n",
    "    \n",
    "    extract_features = extractor_fn(img, resize_factor)\n",
    "    \n",
    "    global_descriptor = extract_features[\"global_descriptor\"]\n",
    "    local_features = extract_features[\"local_features\"]\n",
    "    \n",
    "    locations = local_features[\"locations\"]\n",
    "    descriptors = local_features[\"descriptors\"]\n",
    "    scales = local_features[\"scales\"]\n",
    "    attention = local_features[\"attention\"]\n",
    "    \n",
    "    results[filepath] = {\n",
    "        \"locations\" : locations.astype(np.int16),\n",
    "        \"descriptors\": descriptors,\n",
    "        \"img\": img\n",
    "    }"
   ]
  },
  {
   "cell_type": "code",
   "execution_count": null,
   "metadata": {},
   "outputs": [],
   "source": [
    "for filepath in filepath_list:\n",
    "    locations = results[filepath][\"locations\"]\n",
    "    img = results[filepath][\"img\"]\n",
    "    plt.imshow(img)\n",
    "    plt.scatter(locations[:, 1], locations[:, 0])\n",
    "    plt.show()"
   ]
  },
  {
   "cell_type": "code",
   "execution_count": null,
   "metadata": {},
   "outputs": [],
   "source": [
    "filepath1 = filepath_list[0]\n",
    "locations1 = results[filepath1][\"locations\"]\n",
    "descriptors1 = results[filepath1][\"descriptors\"]\n",
    "img1 = results[filepath1][\"img\"]"
   ]
  },
  {
   "cell_type": "code",
   "execution_count": null,
   "metadata": {},
   "outputs": [],
   "source": [
    "filepath2 = filepath_list[1]\n",
    "locations2 = results[filepath2][\"locations\"]\n",
    "descriptors2 = results[filepath2][\"descriptors\"]\n",
    "img2 = results[filepath2][\"img\"]"
   ]
  },
  {
   "cell_type": "code",
   "execution_count": null,
   "metadata": {},
   "outputs": [],
   "source": [
    "locations1.shape, locations2.shape, descriptors1.shape, descriptors2.shape"
   ]
  },
  {
   "cell_type": "code",
   "execution_count": null,
   "metadata": {},
   "outputs": [],
   "source": [
    "d1_tree = spatial.cKDTree(descriptors1)\n",
    "_, indices = d1_tree.query(descriptors2, distance_upper_bound=0.8)\n",
    "indices.shape"
   ]
  },
  {
   "cell_type": "code",
   "execution_count": null,
   "metadata": {},
   "outputs": [],
   "source": [
    "pts2 = np.array([locations2[i, :] for i in range(locations2.shape[0]) if indices[i] != locations2.shape[0]])\n",
    "pts1 = np.array([locations1[indices[i], :] for i in range(locations1.shape[0]) if indices[i] != locations1.shape[0]])"
   ]
  },
  {
   "cell_type": "code",
   "execution_count": null,
   "metadata": {},
   "outputs": [],
   "source": [
    "plt.imshow(img1)\n",
    "plt.scatter(pts1[:, 1], pts1[:, 0])\n",
    "plt.show()\n",
    "plt.imshow(img2)\n",
    "plt.scatter(pts2[:, 1], pts2[:, 0])\n",
    "plt.show()"
   ]
  },
  {
   "cell_type": "code",
   "execution_count": null,
   "metadata": {},
   "outputs": [],
   "source": [
    "threshold = 4.0\n",
    "conf = 0.99\n",
    "n_iters = 2000\n",
    "_, mask = pydegensac.findFundamentalMatrix(pts1, pts2, threshold, conf, n_iters)"
   ]
  },
  {
   "cell_type": "code",
   "execution_count": null,
   "metadata": {},
   "outputs": [],
   "source": [
    "sum(mask)"
   ]
  },
  {
   "cell_type": "code",
   "execution_count": null,
   "metadata": {},
   "outputs": [],
   "source": [
    "inlier_idxs = np.nonzero(mask)[0]"
   ]
  },
  {
   "cell_type": "code",
   "execution_count": null,
   "metadata": {},
   "outputs": [],
   "source": [
    "inlier_idxs"
   ]
  },
  {
   "cell_type": "code",
   "execution_count": null,
   "metadata": {},
   "outputs": [],
   "source": [
    "fig, ax = plt.subplots(1, 1, figsize=(12, 5), dpi=300)\n",
    "plot_matches(\n",
    "    ax,\n",
    "    img1,\n",
    "    img2,\n",
    "    pts1,\n",
    "    pts2,\n",
    "    np.column_stack((inlier_idxs, inlier_idxs)),\n",
    "    matches_color='r')\n",
    "plt.show()"
   ]
  },
  {
   "cell_type": "code",
   "execution_count": null,
   "metadata": {},
   "outputs": [],
   "source": []
  }
 ],
 "metadata": {
  "kernelspec": {
   "display_name": "base",
   "language": "python",
   "name": "python3"
  },
  "language_info": {
   "codemirror_mode": {
    "name": "ipython",
    "version": 3
   },
   "file_extension": ".py",
   "mimetype": "text/x-python",
   "name": "python",
   "nbconvert_exporter": "python",
   "pygments_lexer": "ipython3",
   "version": "3.10.10"
  },
  "orig_nbformat": 4
 },
 "nbformat": 4,
 "nbformat_minor": 2
}
